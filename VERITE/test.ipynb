{
 "cells": [
  {
   "cell_type": "code",
   "execution_count": 4,
   "metadata": {},
   "outputs": [],
   "source": [
    "import pandas as pd\n",
    "\n",
    "data = pd.read_csv(\"VERITE_v2_true.csv\")"
   ]
  },
  {
   "cell_type": "code",
   "execution_count": 5,
   "metadata": {},
   "outputs": [
    {
     "name": "stdout",
     "output_type": "stream",
     "text": [
      "\n",
      "Rows with NaN values:\n",
      "                                               caption           image_path  \\\n",
      "7    A photograph captured by NASA’s Mars Curiosity...    images/true_7.jpg   \n",
      "85   Image shows a 'We plan to cut all homeless peo...   images/true_95.jpg   \n",
      "103  A photograph shows personnel of the U.S. Custo...  images/true_117.jpg   \n",
      "118  Photograph shows an injured police officer aft...  images/true_133.jpg   \n",
      "133  An image shows a group of antifa protesters be...  images/true_148.jpg   \n",
      "161  Photograph depicts a sign at a single Wegmans ...  images/true_176.jpg   \n",
      "167  An image of actress Samara Weaving covered in ...  images/true_182.jpg   \n",
      "171  A still from the 1988 Holocaust-themed miniser...  images/true_186.jpg   \n",
      "191  A photograph shows a white man posing with the...  images/true_206.jpg   \n",
      "273  Photographs show an attempted robbery in Brazi...  images/true_310.jpg   \n",
      "285  Image shows a man, named Aleskey Frumkin, bein...  images/true_325.jpg   \n",
      "\n",
      "     label    best_guess_labels  \\\n",
      "7     True       portal on mars   \n",
      "85    True              signage   \n",
      "103   True                blood   \n",
      "118   True               horror   \n",
      "133   True                crowd   \n",
      "161   True                 sign   \n",
      "167   True                 girl   \n",
      "171   True              soldier   \n",
      "191   True       trophy hunting   \n",
      "273   True               street   \n",
      "285   True  cast a fishing line   \n",
      "\n",
      "                                       web_description  \\\n",
      "7    Mars, , NASA, Rover, Photograph, Mars rover, N...   \n",
      "85                                        cut, Poverty   \n",
      "103                                             Zombie   \n",
      "118                                             Zombie   \n",
      "133                                                NaN   \n",
      "161                  Document, Pork, , Target, License   \n",
      "167    Samara Weaving, Ash vs Evil Dead, Zombie, Image   \n",
      "171                                                NaN   \n",
      "191                               Deer, Trophy hunting   \n",
      "273                                                NaN   \n",
      "285              Heckler & Koch, Fishing, Fishing Line   \n",
      "\n",
      "    page_title_matching_images  \\\n",
      "7                          NaN   \n",
      "85                         NaN   \n",
      "103                        NaN   \n",
      "118                        NaN   \n",
      "133                        NaN   \n",
      "161                        NaN   \n",
      "167                        NaN   \n",
      "171                        NaN   \n",
      "191                        NaN   \n",
      "273                        NaN   \n",
      "285                        NaN   \n",
      "\n",
      "                                     rewritten_caption  \n",
      "7    A photograph captured by NASA's Mars Curiosity...  \n",
      "85   Here is the rewritten caption: \\r\\n Image show...  \n",
      "103  Injuries sustained by Customs and Border Prote...  \n",
      "118  Protesters clash with police in Mexico in Octo...  \n",
      "133  A group of antifa protesters physically assaul...  \n",
      "161  In this 2012 photograph, a sign at a specific ...  \n",
      "167  Samara Weaving, an actress, is shown covered i...  \n",
      "171  A still from the 1988 Holocaust-themed miniser...  \n",
      "191  A photograph shows a white man posing with the...  \n",
      "273  In 2008, an attempted robbery in Brazil ended ...  \n",
      "285  A man in Ukraine, Aleskey Frumkin, being whipp...  \n",
      "\n",
      "Count of NaN values per column:\n",
      "caption                        0\n",
      "image_path                     0\n",
      "label                          0\n",
      "best_guess_labels              0\n",
      "web_description                3\n",
      "page_title_matching_images    11\n",
      "rewritten_caption              0\n",
      "dtype: int64\n"
     ]
    }
   ],
   "source": [
    "# find nan in data\n",
    "# Display rows with any NaN values\n",
    "print(\"\\nRows with NaN values:\")\n",
    "print(data[data.isna().any(axis=1)])\n",
    "\n",
    "# Display count of NaN values in each column\n",
    "print(\"\\nCount of NaN values per column:\")\n",
    "print(data.isna().sum())\n"
   ]
  },
  {
   "cell_type": "code",
   "execution_count": 6,
   "metadata": {},
   "outputs": [
    {
     "name": "stdout",
     "output_type": "stream",
     "text": [
      "\n",
      "Indices with null values:\n",
      "[7, 85, 103, 118, 133, 161, 167, 171, 191, 273, 285]\n",
      "\n",
      "Rows with null values (including index):\n",
      "                                               caption           image_path  \\\n",
      "7    A photograph captured by NASA’s Mars Curiosity...    images/true_7.jpg   \n",
      "85   Image shows a 'We plan to cut all homeless peo...   images/true_95.jpg   \n",
      "103  A photograph shows personnel of the U.S. Custo...  images/true_117.jpg   \n",
      "118  Photograph shows an injured police officer aft...  images/true_133.jpg   \n",
      "133  An image shows a group of antifa protesters be...  images/true_148.jpg   \n",
      "161  Photograph depicts a sign at a single Wegmans ...  images/true_176.jpg   \n",
      "167  An image of actress Samara Weaving covered in ...  images/true_182.jpg   \n",
      "171  A still from the 1988 Holocaust-themed miniser...  images/true_186.jpg   \n",
      "191  A photograph shows a white man posing with the...  images/true_206.jpg   \n",
      "273  Photographs show an attempted robbery in Brazi...  images/true_310.jpg   \n",
      "285  Image shows a man, named Aleskey Frumkin, bein...  images/true_325.jpg   \n",
      "\n",
      "     label    best_guess_labels  \\\n",
      "7     True       portal on mars   \n",
      "85    True              signage   \n",
      "103   True                blood   \n",
      "118   True               horror   \n",
      "133   True                crowd   \n",
      "161   True                 sign   \n",
      "167   True                 girl   \n",
      "171   True              soldier   \n",
      "191   True       trophy hunting   \n",
      "273   True               street   \n",
      "285   True  cast a fishing line   \n",
      "\n",
      "                                       web_description  \\\n",
      "7    Mars, , NASA, Rover, Photograph, Mars rover, N...   \n",
      "85                                        cut, Poverty   \n",
      "103                                             Zombie   \n",
      "118                                             Zombie   \n",
      "133                                                NaN   \n",
      "161                  Document, Pork, , Target, License   \n",
      "167    Samara Weaving, Ash vs Evil Dead, Zombie, Image   \n",
      "171                                                NaN   \n",
      "191                               Deer, Trophy hunting   \n",
      "273                                                NaN   \n",
      "285              Heckler & Koch, Fishing, Fishing Line   \n",
      "\n",
      "    page_title_matching_images  \\\n",
      "7                          NaN   \n",
      "85                         NaN   \n",
      "103                        NaN   \n",
      "118                        NaN   \n",
      "133                        NaN   \n",
      "161                        NaN   \n",
      "167                        NaN   \n",
      "171                        NaN   \n",
      "191                        NaN   \n",
      "273                        NaN   \n",
      "285                        NaN   \n",
      "\n",
      "                                     rewritten_caption  \n",
      "7    A photograph captured by NASA's Mars Curiosity...  \n",
      "85   Here is the rewritten caption: \\r\\n Image show...  \n",
      "103  Injuries sustained by Customs and Border Prote...  \n",
      "118  Protesters clash with police in Mexico in Octo...  \n",
      "133  A group of antifa protesters physically assaul...  \n",
      "161  In this 2012 photograph, a sign at a specific ...  \n",
      "167  Samara Weaving, an actress, is shown covered i...  \n",
      "171  A still from the 1988 Holocaust-themed miniser...  \n",
      "191  A photograph shows a white man posing with the...  \n",
      "273  In 2008, an attempted robbery in Brazil ended ...  \n",
      "285  A man in Ukraine, Aleskey Frumkin, being whipp...  \n"
     ]
    }
   ],
   "source": [
    "# show which index is null\n",
    "# Get indices where any column has null values\n",
    "null_indices = data[data.isna().any(axis=1)].index\n",
    "\n",
    "print(\"\\nIndices with null values:\")\n",
    "print(null_indices.tolist())\n",
    "\n",
    "# Show the actual rows with null values including their index\n",
    "print(\"\\nRows with null values (including index):\")\n",
    "print(data.iloc[null_indices])"
   ]
  },
  {
   "cell_type": "code",
   "execution_count": 8,
   "metadata": {},
   "outputs": [
    {
     "name": "stdout",
     "output_type": "stream",
     "text": [
      "Shape of data after removal: (296, 7)\n"
     ]
    }
   ],
   "source": [
    "# Remove record with specific image path\n",
    "data = data[data['image_path'] != 'images/true_329.jpg']\n",
    "\n",
    "# Reset the index after removal\n",
    "data = data.reset_index(drop=True)\n",
    "\n",
    "print(f\"Shape of data after removal: {data.shape}\")\n"
   ]
  },
  {
   "cell_type": "code",
   "execution_count": 9,
   "metadata": {},
   "outputs": [],
   "source": [
    "# save the data\n",
    "data.to_csv(\"VERITE_v2_true_cleaned.csv\", index=False)\n",
    "\n"
   ]
  },
  {
   "cell_type": "code",
   "execution_count": 10,
   "metadata": {},
   "outputs": [],
   "source": [
    "\n",
    "verite_v2 = pd.read_csv(\"VERITE_v2.csv\")\n",
    "# from VERITE_v2.csv keep only out-of-context labels\n",
    "out_of_context = verite_v2[verite_v2['label'] == 'out-of-context']\n",
    "\n",
    "# save the data\n",
    "out_of_context.to_csv(\"VERITE_v2_out_of_context.csv\", index=False)\n"
   ]
  },
  {
   "cell_type": "code",
   "execution_count": null,
   "metadata": {},
   "outputs": [],
   "source": []
  }
 ],
 "metadata": {
  "kernelspec": {
   "display_name": "Python 3",
   "language": "python",
   "name": "python3"
  },
  "language_info": {
   "codemirror_mode": {
    "name": "ipython",
    "version": 3
   },
   "file_extension": ".py",
   "mimetype": "text/x-python",
   "name": "python",
   "nbconvert_exporter": "python",
   "pygments_lexer": "ipython3",
   "version": "3.11.8"
  }
 },
 "nbformat": 4,
 "nbformat_minor": 2
}
